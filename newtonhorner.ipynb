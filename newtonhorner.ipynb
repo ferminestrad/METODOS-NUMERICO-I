{
  "nbformat": 4,
  "nbformat_minor": 0,
  "metadata": {
    "colab": {
      "provenance": [],
      "authorship_tag": "ABX9TyPqxAl+26rG4Jv/diKgx64J",
      "include_colab_link": true
    },
    "kernelspec": {
      "name": "python3",
      "display_name": "Python 3"
    },
    "language_info": {
      "name": "python"
    }
  },
  "cells": [
    {
      "cell_type": "markdown",
      "metadata": {
        "id": "view-in-github",
        "colab_type": "text"
      },
      "source": [
        "<a href=\"https://colab.research.google.com/github/ferminestrad/METODOS-NUMERICO-I/blob/main/newtonhorner.ipynb\" target=\"_parent\"><img src=\"https://colab.research.google.com/assets/colab-badge.svg\" alt=\"Open In Colab\"/></a>"
      ]
    },
    {
      "cell_type": "code",
      "execution_count": 3,
      "metadata": {
        "colab": {
          "base_uri": "https://localhost:8080/"
        },
        "id": "Ly3cpDPXa7x8",
        "outputId": "5a8f6628-53e4-4833-c2a3-d96387687148"
      },
      "outputs": [
        {
          "output_type": "stream",
          "name": "stdout",
          "text": [
            "-1.483047381503316\n"
          ]
        }
      ],
      "source": [
        "import numpy as np\n",
        "\n",
        "def newton_raphsonpoly(coeffs, x0, tol=1e-4, max_iter=100):\n",
        "    x = x0\n",
        "    n = len(coeffs) - 1\n",
        "    for i in range(max_iter):\n",
        "        fx = coeffs[n]\n",
        "        dfx = 0\n",
        "        for j in range(n-1, -1, -1):\n",
        "            dfx = dfx * x + fx\n",
        "            fx = fx * x + coeffs[j]\n",
        "        if abs(fx) < tol:\n",
        "            return x\n",
        "        if dfx == 0:\n",
        "            break\n",
        "        x = x - fx / dfx\n",
        "    return\n",
        "\n",
        "coeffs = [2, -3, 3,4]\n",
        "x0 = -2\n",
        "raiz = newton_raphsonpoly(coeffs, x0)\n",
        "print(raiz)"
      ]
    }
  ]
}