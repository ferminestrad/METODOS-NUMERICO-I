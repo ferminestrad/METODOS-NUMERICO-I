{
  "nbformat": 4,
  "nbformat_minor": 0,
  "metadata": {
    "colab": {
      "provenance": [],
      "authorship_tag": "ABX9TyOtCuIpcvUHwZg6/zUNWpFj",
      "include_colab_link": true
    },
    "kernelspec": {
      "name": "python3",
      "display_name": "Python 3"
    },
    "language_info": {
      "name": "python"
    }
  },
  "cells": [
    {
      "cell_type": "markdown",
      "metadata": {
        "id": "view-in-github",
        "colab_type": "text"
      },
      "source": [
        "<a href=\"https://colab.research.google.com/github/ferminestrad/METODOS-NUMERICO-I/blob/main/Copia_de_bisecci%C3%B3n.ipynb\" target=\"_parent\"><img src=\"https://colab.research.google.com/assets/colab-badge.svg\" alt=\"Open In Colab\"/></a>"
      ]
    },
    {
      "cell_type": "code",
      "execution_count": null,
      "metadata": {
        "colab": {
          "base_uri": "https://localhost:8080/"
        },
        "id": "f0TIeEGcghhP",
        "outputId": "c03ef0b3-73f4-45ba-e319-762f3b71f47f"
      },
      "outputs": [
        {
          "output_type": "stream",
          "name": "stdout",
          "text": [
            "    n          an         bn         pn       f(pn)   \n",
            "    2       1.50000    2.00000    1.75000    -0.30459 \n",
            "    3       1.75000    2.00000    1.87500    0.19438  \n",
            "    4       1.75000    1.87500    1.81250    -0.06827 \n",
            "    5       1.81250    1.87500    1.84375    0.05964  \n",
            "    6       1.81250    1.84375    1.82812    -0.00516 \n",
            "    7       1.82812    1.84375    1.83594    0.02703  \n",
            "    8       1.82812    1.83594    1.83203    0.01088  \n",
            "    9       1.82812    1.83203    1.83008    0.00285  \n",
            "    10      1.82812    1.83008    1.82910    -0.00116 \n",
            "    11      1.82910    1.83008    1.82959    0.00085  \n",
            "    12      1.82910    1.82959    1.82935    -0.00016 \n",
            "    13      1.82935    1.82959    1.82947    0.00035  \n",
            "    14      1.82935    1.82947    1.82941    0.00009  \n",
            "\n",
            "La raíz aproximada es: 1.82940673828125\n"
          ]
        }
      ],
      "source": [
        "import math as m\n",
        "def biseccion(f, a, b, tol):\n",
        "    # Verificar si f(a) y f(b) tienen signos opuestos\n",
        "    if f(a)*f(b) >= 0:\n",
        "        print(\"Error: La función no cambia de signo en el intervalo dado.\")\n",
        "        return None\n",
        "    \n",
        "    # Inicializar variables\n",
        "    n = 1\n",
        "    an = a\n",
        "    bn = b\n",
        "    p = (an + bn) / 2\n",
        "    \n",
        "    # Imprimir encabezado de la tabla\n",
        "    print(\"{:^10} {:^10} {:^10} {:^10} {:^10}\".format(\"n\", \"an\", \"bn\", \"pn\", \"f(pn)\"))\n",
        "    \n",
        "    # Iterar mientras que la tolerancia no se cumpla\n",
        "    while abs(f(p)) > tol:\n",
        "        # Actualizar an o bn según sea necesario\n",
        "        if f(an)*f(p) < 0:\n",
        "            bn = p\n",
        "        else:\n",
        "            an = p\n",
        "        \n",
        "        # Actualizar p y n\n",
        "        p = (an + bn) / 2\n",
        "        n += 1\n",
        "        \n",
        "        # Imprimir fila de la tabla\n",
        "        print(\"{:^10d} {:^10.5f} {:^10.5f} {:^10.5f} {:^10.5f}\".format(n, an, bn, p, f(p)))\n",
        "    \n",
        "    print(\"\\nLa raíz aproximada es:\", p)\n",
        "    return p\n",
        "\n",
        "def f(x):\n",
        "    return m.exp(x)+2**(-x)+2*m.cos(x)-6\n",
        "\n",
        "a=biseccion(f, 1, 2, 0.0001)"
      ]
    }
  ]
}