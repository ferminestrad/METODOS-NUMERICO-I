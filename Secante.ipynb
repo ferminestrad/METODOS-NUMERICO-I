{
  "nbformat": 4,
  "nbformat_minor": 0,
  "metadata": {
    "colab": {
      "provenance": [],
      "authorship_tag": "ABX9TyMhJI5luwFzJHIUh8H8s5bm",
      "include_colab_link": true
    },
    "kernelspec": {
      "name": "python3",
      "display_name": "Python 3"
    },
    "language_info": {
      "name": "python"
    }
  },
  "cells": [
    {
      "cell_type": "markdown",
      "metadata": {
        "id": "view-in-github",
        "colab_type": "text"
      },
      "source": [
        "<a href=\"https://colab.research.google.com/github/ferminestrad/METODOS-NUMERICO-I/blob/main/Secante.ipynb\" target=\"_parent\"><img src=\"https://colab.research.google.com/assets/colab-badge.svg\" alt=\"Open In Colab\"/></a>"
      ]
    },
    {
      "cell_type": "code",
      "execution_count": 1,
      "metadata": {
        "colab": {
          "base_uri": "https://localhost:8080/"
        },
        "id": "VtMdjimJc0-p",
        "outputId": "7c0de0bb-27a8-417a-8aa5-90a19d784ee0"
      },
      "outputs": [
        {
          "output_type": "stream",
          "name": "stdout",
          "text": [
            "1.4294445361553108\n"
          ]
        }
      ],
      "source": [
        "def f(x):\n",
        "    return 2*x**3 - 3*x**2+3*x - 4\n",
        "def secante(f, x0, x1, tol=1e-4, max_iter=100):\n",
        "    for i in range(max_iter):\n",
        "        fx0 = f(x0)\n",
        "        fx1 = f(x1)\n",
        "        x2 = x1 - ((x1 - x0) * fx1) / (fx1 - fx0)\n",
        "        if abs(x2 - x1) < tol:\n",
        "            return x2\n",
        "        x0, x1 = x1, x2\n",
        "    return None\n",
        "\n",
        "\n",
        "x0 = -2.0\n",
        "x1 = 2.0\n",
        "\n",
        "\n",
        "raiz = secante(f, x0, x1)\n",
        "print(raiz)"
      ]
    }
  ]
}