{
  "nbformat": 4,
  "nbformat_minor": 0,
  "metadata": {
    "colab": {
      "provenance": [],
      "authorship_tag": "ABX9TyOSf8LQ+T5oXua9LsnP06LG",
      "include_colab_link": true
    },
    "kernelspec": {
      "name": "python3",
      "display_name": "Python 3"
    },
    "language_info": {
      "name": "python"
    }
  },
  "cells": [
    {
      "cell_type": "markdown",
      "metadata": {
        "id": "view-in-github",
        "colab_type": "text"
      },
      "source": [
        "<a href=\"https://colab.research.google.com/github/ferminestrad/METODOS-NUMERICO-I/blob/main/bisecci%C3%B3n.ipynb\" target=\"_parent\"><img src=\"https://colab.research.google.com/assets/colab-badge.svg\" alt=\"Open In Colab\"/></a>"
      ]
    },
    {
      "cell_type": "code",
      "execution_count": 1,
      "metadata": {
        "colab": {
          "base_uri": "https://localhost:8080/"
        },
        "id": "f0TIeEGcghhP",
        "outputId": "b226020b-f89f-4eef-d2e0-880db41cb0bb"
      },
      "outputs": [
        {
          "output_type": "stream",
          "name": "stdout",
          "text": [
            "La raíz es 1.8674\n"
          ]
        }
      ],
      "source": [
        "import math as mt\n",
        "def f(x):\n",
        "  f = mt.pow(x, 3) + mt.pow(x, 2) - 10\n",
        "  return f\n",
        "def bisection(f, a, b, tol=1e-6, max_iter=100):\n",
        "\n",
        "    if f(a) * f(b) >= 0:\n",
        "        raise ValueError(\"La función no cambia de signo en el intervalo dado.\")\n",
        "    \n",
        "    c = (a + b) / 2\n",
        "    i = 0\n",
        "    \n",
        "    while abs(f(c)) > tol and i < max_iter:\n",
        "        if f(a) * f(c) < 0:\n",
        "            b = c\n",
        "        else:\n",
        "            a = c\n",
        "        c = (a + b) / 2\n",
        "        i += 1\n",
        "    \n",
        "    if i == max_iter:\n",
        "        print(\"El método de bisección alcanzó el número máximo de iteraciones.\")\n",
        "    \n",
        "    return c\n",
        "rr=bisection(f,1,2)\n",
        "print(f\"La raíz es {mt.trunc(rr * 10000) / 10000}\")"
      ]
    }
  ]
}