{
 "cells": [
  {
   "cell_type": "code",
   "execution_count": 1,
   "id": "57fce183",
   "metadata": {},
   "outputs": [
    {
     "name": "stdout",
     "output_type": "stream",
     "text": [
      "0.7652\t\n",
      "0.6201\t-0.4837\t\n",
      "0.4554\t-0.5489\t-0.1087\t\n",
      "0.2818\t-0.5786\t-0.0494\t0.0659\t\n",
      "0.1104\t-0.5715\t0.0118\t0.0681\t0.0018\t\n",
      "El valor aproximado es: 0.0018\n"
     ]
    }
   ],
   "source": [
    "def diferencias_divididas_newton(x, f):\n",
    "    n = len(x)\n",
    "    F = [[0] * n for _ in range(n)]  # Crear una matriz F de n x n inicializada con ceros\n",
    "    \n",
    "    for i in range(n):\n",
    "        F[i][0] = f[i]  # Asignar los valores de la primera columna de F\n",
    "    \n",
    "    for i in range(1, n):\n",
    "        for j in range(1, i + 1):\n",
    "            F[i][j] = (F[i][j-1] - F[i-1][j-1]) / (x[i] - x[i-j])\n",
    "    \n",
    "    return F\n",
    "\n",
    "# Función para imprimir la tabla de diferencias divididas\n",
    "def imprimir_tabla_diferencias_divididas(F):\n",
    "    n = len(F)\n",
    "    for i in range(n):\n",
    "        for j in range(i + 1):\n",
    "            print(\"{:.4f}\".format(F[i][j]), end=\"\\t\")\n",
    "        print()\n",
    "\n",
    "# Valores proporcionados\n",
    "x = [1.0, 1.3, 1.6, 1.9, 2.2]\n",
    "f = [0.7651977, 0.6200860, 0.4554022, 0.2818186, 0.1103623]\n",
    "\n",
    "F = diferencias_divididas_newton(x, f)\n",
    "imprimir_tabla_diferencias_divididas(F)\n",
    "\n",
    "resultado = F[-1][-1]\n",
    "print(\"El valor aproximado es: {:.4f}\".format(resultado))\n"
   ]
  },
  {
   "cell_type": "code",
   "execution_count": null,
   "id": "8cddb65c",
   "metadata": {},
   "outputs": [],
   "source": []
  }
 ],
 "metadata": {
  "kernelspec": {
   "display_name": "Python 3 (ipykernel)",
   "language": "python",
   "name": "python3"
  },
  "language_info": {
   "codemirror_mode": {
    "name": "ipython",
    "version": 3
   },
   "file_extension": ".py",
   "mimetype": "text/x-python",
   "name": "python",
   "nbconvert_exporter": "python",
   "pygments_lexer": "ipython3",
   "version": "3.9.12"
  }
 },
 "nbformat": 4,
 "nbformat_minor": 5
}
