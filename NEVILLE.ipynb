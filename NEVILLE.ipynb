{
 "cells": [
  {
   "cell_type": "code",
   "execution_count": 2,
   "id": "75d123e4",
   "metadata": {
    "scrolled": true
   },
   "outputs": [
    {
     "name": "stdout",
     "output_type": "stream",
     "text": [
      "0.6931\t\n",
      "0.7885\t0.7885\t\n",
      "0.8329\t0.8329\t0.5701\t\n",
      "La evaluación en x=2.1 es: 0.7662\n"
     ]
    }
   ],
   "source": [
    "def tabla_diferencias_divididas_neville(x, fx, xv):\n",
    "    n = len(x)\n",
    "    Q = [[0] * n for _ in range(n)]  # Crear una matriz de n x n\n",
    "    \n",
    "    for i in range(n):\n",
    "        Q[i][0] = round(fx[i], 4)  # Asignar los valores de la columna de la matriz y redondeo a 4 digigtos\n",
    "    \n",
    "    for i in range(1, n):\n",
    "        for j in range(1, i + 1):\n",
    "            Q[i][j] = round(((x[i] - x[i-j]) * Q[i][j-1] - (x[i] - x[i-j+1]) * Q[i-1][j-1]) / (x[i] - x[i-j]), 4)\n",
    "    \n",
    "    # Función para imprimir la tabla de diferencias divididas y el resultado de la evaluación en xv\n",
    "    def imprimir_tabla_diferencias_divididas(Q):\n",
    "        for i in range(n):\n",
    "            for j in range(i + 1):\n",
    "                print(Q[i][j], end=\"\\t\")\n",
    "            print()\n",
    "    \n",
    "        # Evaluación en xv\n",
    "        Pn_xv = Q[n-1][n-1]\n",
    "        for i in range(n-2, -1, -1):\n",
    "            Pn_xv = Q[i][i] + (xv - x[i]) * Pn_xv\n",
    "        \n",
    "        print(f\"La evaluación en x={xv} es:\", round(Pn_xv, 4))\n",
    "\n",
    "    imprimir_tabla_diferencias_divididas(Q)\n",
    "    \n",
    "    return Q\n",
    "\n",
    "# Tabla\n",
    "x = [2.0, 2.2, 2.3]\n",
    "fx = [0.6931, 0.7885, 0.8329]\n",
    "\n",
    "xv = 2.1\n",
    "\n",
    "Q = tabla_diferencias_divididas_neville(x, fx, xv)\n",
    "\n"
   ]
  },
  {
   "cell_type": "code",
   "execution_count": null,
   "id": "a0952028",
   "metadata": {},
   "outputs": [],
   "source": []
  }
 ],
 "metadata": {
  "kernelspec": {
   "display_name": "Python 3 (ipykernel)",
   "language": "python",
   "name": "python3"
  },
  "language_info": {
   "codemirror_mode": {
    "name": "ipython",
    "version": 3
   },
   "file_extension": ".py",
   "mimetype": "text/x-python",
   "name": "python",
   "nbconvert_exporter": "python",
   "pygments_lexer": "ipython3",
   "version": "3.9.12"
  }
 },
 "nbformat": 4,
 "nbformat_minor": 5
}
