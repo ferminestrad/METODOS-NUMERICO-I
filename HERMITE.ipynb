{
 "cells": [
  {
   "cell_type": "code",
   "execution_count": 5,
   "id": "1f9d5b6d",
   "metadata": {},
   "outputs": [
    {
     "name": "stdout",
     "output_type": "stream",
     "text": [
      "El valor interpolado en x = 1.5 es y = 0.5129\n"
     ]
    }
   ],
   "source": [
    "def hermite(x, y, dy, x_interp):\n",
    "    n = len(x)\n",
    "    result = 0.0\n",
    "    \n",
    "    for i in range(n):\n",
    "        # Calcula la base de Hermite para el punto de interpolación\n",
    "        base = 1.0\n",
    "        for j in range(n):\n",
    "            if j != i:\n",
    "                base *= (x_interp - x[j]) / (x[i] - x[j])\n",
    "        \n",
    "        # Calcula el polinomio de Hermite para el punto de interpolación\n",
    "        result += (base * (y[i] + (x_interp - x[i]) * dy[i]))\n",
    "    \n",
    "    return result\n",
    "\n",
    "\n",
    "# Ejemplo de uso\n",
    "x = [1.3, 1.6, 1.9]             # Valores de x conocidos\n",
    "y = [0.6200860, 0.4554022, 0.2818186]     # Valores de f(x) conocidos\n",
    "dy = [-0.5220232, -0.5698959, -0.5811571] # Valores de f'(x) conocidos\n",
    "x_interp = 1.5              # Punto de interpolación\n",
    "\n",
    "interpolated_value = hermite(x, y, dy, x_interp)\n",
    "print(f\"El valor interpolado en x = {x_interp} es y = {interpolated_value:.4f}\")\n",
    "\n",
    "\n"
   ]
  },
  {
   "cell_type": "code",
   "execution_count": null,
   "id": "74944a08",
   "metadata": {},
   "outputs": [],
   "source": []
  },
  {
   "cell_type": "code",
   "execution_count": null,
   "id": "6e249c43",
   "metadata": {},
   "outputs": [],
   "source": []
  }
 ],
 "metadata": {
  "kernelspec": {
   "display_name": "Python 3 (ipykernel)",
   "language": "python",
   "name": "python3"
  },
  "language_info": {
   "codemirror_mode": {
    "name": "ipython",
    "version": 3
   },
   "file_extension": ".py",
   "mimetype": "text/x-python",
   "name": "python",
   "nbconvert_exporter": "python",
   "pygments_lexer": "ipython3",
   "version": "3.9.12"
  }
 },
 "nbformat": 4,
 "nbformat_minor": 5
}
