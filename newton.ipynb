{
  "nbformat": 4,
  "nbformat_minor": 0,
  "metadata": {
    "colab": {
      "provenance": [],
      "authorship_tag": "ABX9TyP/Px/5ncdfJ7uRD9jLJqih",
      "include_colab_link": true
    },
    "kernelspec": {
      "name": "python3",
      "display_name": "Python 3"
    },
    "language_info": {
      "name": "python"
    }
  },
  "cells": [
    {
      "cell_type": "markdown",
      "metadata": {
        "id": "view-in-github",
        "colab_type": "text"
      },
      "source": [
        "<a href=\"https://colab.research.google.com/github/ferminestrad/METODOS-NUMERICO-I/blob/main/newton.ipynb\" target=\"_parent\"><img src=\"https://colab.research.google.com/assets/colab-badge.svg\" alt=\"Open In Colab\"/></a>"
      ]
    },
    {
      "cell_type": "code",
      "execution_count": null,
      "metadata": {
        "id": "EJ34p32ewIs1"
      },
      "outputs": [],
      "source": [
        "from math import *\n",
        "import numpy as np\n",
        "def newton_raphson(f, df, x0, tol=1e-4, max_iter=100):\n",
        "    x = x0\n",
        "    for i in range(max_iter):\n",
        "        fx = f(x)\n",
        "        if abs(fx) < tol:\n",
        "            return x\n",
        "        dfx = df(x)\n",
        "        if dfx == 0:\n",
        "            break\n",
        "        x = x - fx / dfx\n",
        "    return \n",
        "f = lambda x: np.exp(x) + 2**(-x)+ 2*np.cos(x)-6\n",
        "df = lambda x: np.exp(x) - (np.log(2)/( 2**(x))) -2*np.sin(x)\n",
        "x0 = 1\n",
        "\n",
        "raiz = newton_raphson(f, df, x0)\n",
        "print(raiz)"
      ]
    }
  ]
}